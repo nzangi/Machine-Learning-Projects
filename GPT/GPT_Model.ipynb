{
  "nbformat": 4,
  "nbformat_minor": 0,
  "metadata": {
    "colab": {
      "provenance": []
    },
    "kernelspec": {
      "name": "python3",
      "display_name": "Python 3"
    },
    "language_info": {
      "name": "python"
    }
  },
  "cells": [
    {
      "cell_type": "code",
      "execution_count": 74,
      "metadata": {
        "colab": {
          "base_uri": "https://localhost:8080/"
        },
        "id": "9yX2vpP4EiJa",
        "outputId": "a41da2f3-b967-44d3-df33-db16b300a234"
      },
      "outputs": [
        {
          "output_type": "stream",
          "name": "stdout",
          "text": [
            "--2023-04-01 09:29:58--  https://raw.githubusercontent.com/karpathy/char-rnn/master/data/tinyshakespeare/input.txt\n",
            "Resolving raw.githubusercontent.com (raw.githubusercontent.com)... 185.199.108.133, 185.199.109.133, 185.199.110.133, ...\n",
            "Connecting to raw.githubusercontent.com (raw.githubusercontent.com)|185.199.108.133|:443... connected.\n",
            "HTTP request sent, awaiting response... 200 OK\n",
            "Length: 1115394 (1.1M) [text/plain]\n",
            "Saving to: ‘input.txt.1’\n",
            "\n",
            "\rinput.txt.1           0%[                    ]       0  --.-KB/s               \rinput.txt.1         100%[===================>]   1.06M  --.-KB/s    in 0.006s  \n",
            "\n",
            "2023-04-01 09:29:58 (185 MB/s) - ‘input.txt.1’ saved [1115394/1115394]\n",
            "\n"
          ]
        }
      ],
      "source": [
        "#Dowloading the data\n",
        "!wget https://raw.githubusercontent.com/karpathy/char-rnn/master/data/tinyshakespeare/input.txt"
      ]
    },
    {
      "cell_type": "code",
      "source": [
        "with open('input.txt','r',encoding='utf-8') as f:\n",
        "  text= f.read()"
      ],
      "metadata": {
        "id": "x2B9jKu9FE7P"
      },
      "execution_count": 75,
      "outputs": []
    },
    {
      "cell_type": "code",
      "source": [
        "print(f\"The length of characters: {len(text)}\")"
      ],
      "metadata": {
        "colab": {
          "base_uri": "https://localhost:8080/"
        },
        "id": "lCY5Ih9PFnrU",
        "outputId": "bbfd3760-8f8c-4953-9677-d5e3dddd03e0"
      },
      "execution_count": 76,
      "outputs": [
        {
          "output_type": "stream",
          "name": "stdout",
          "text": [
            "The length of characters: 1115394\n"
          ]
        }
      ]
    },
    {
      "cell_type": "code",
      "source": [
        "#printing the fisrt 500 characters\n",
        "print(text[:1000])"
      ],
      "metadata": {
        "colab": {
          "base_uri": "https://localhost:8080/"
        },
        "id": "BgbNkN12F10D",
        "outputId": "f314d92e-4fca-44c4-be92-4b2195cc3f8c"
      },
      "execution_count": 77,
      "outputs": [
        {
          "output_type": "stream",
          "name": "stdout",
          "text": [
            "First Citizen:\n",
            "Before we proceed any further, hear me speak.\n",
            "\n",
            "All:\n",
            "Speak, speak.\n",
            "\n",
            "First Citizen:\n",
            "You are all resolved rather to die than to famish?\n",
            "\n",
            "All:\n",
            "Resolved. resolved.\n",
            "\n",
            "First Citizen:\n",
            "First, you know Caius Marcius is chief enemy to the people.\n",
            "\n",
            "All:\n",
            "We know't, we know't.\n",
            "\n",
            "First Citizen:\n",
            "Let us kill him, and we'll have corn at our own price.\n",
            "Is't a verdict?\n",
            "\n",
            "All:\n",
            "No more talking on't; let it be done: away, away!\n",
            "\n",
            "Second Citizen:\n",
            "One word, good citizens.\n",
            "\n",
            "First Citizen:\n",
            "We are accounted poor citizens, the patricians good.\n",
            "What authority surfeits on would relieve us: if they\n",
            "would yield us but the superfluity, while it were\n",
            "wholesome, we might guess they relieved us humanely;\n",
            "but they think we are too dear: the leanness that\n",
            "afflicts us, the object of our misery, is as an\n",
            "inventory to particularise their abundance; our\n",
            "sufferance is a gain to them Let us revenge this with\n",
            "our pikes, ere we become rakes: for the gods know I\n",
            "speak this in hunger for bread, not in thirst for revenge.\n",
            "\n",
            "\n"
          ]
        }
      ]
    },
    {
      "cell_type": "code",
      "source": [
        "#characters which are in the whole text\n",
        "chars = sorted(list(set(text)))\n",
        "vocab_size = len(chars)\n",
        "print(''.join(chars))\n",
        "print(vocab_size)"
      ],
      "metadata": {
        "colab": {
          "base_uri": "https://localhost:8080/"
        },
        "id": "aiqtMgy5GKq-",
        "outputId": "57859671-02a0-4405-8be8-2f4b1b54eda5"
      },
      "execution_count": 78,
      "outputs": [
        {
          "output_type": "stream",
          "name": "stdout",
          "text": [
            "\n",
            " !$&',-.3:;?ABCDEFGHIJKLMNOPQRSTUVWXYZabcdefghijklmnopqrstuvwxyz\n",
            "65\n"
          ]
        }
      ]
    },
    {
      "cell_type": "code",
      "source": [
        "#create a mapping \n",
        "#string to interger\n",
        "stoi = { ch:i for i,ch in enumerate(chars) }\n",
        "#intenger to string\n",
        "itos = { i:ch for i,ch in enumerate(chars) }\n",
        "#take input as string, input intergers\n",
        "encode = lambda s: [stoi[c] for c in s]\n",
        "#take a list of interger, input string\n",
        "decode = lambda l: ''.join([itos[i] for i in l])\n",
        "\n",
        "print(encode(\"Hii there\"))\n",
        "print(decode(encode(\"Hii there\")))\n"
      ],
      "metadata": {
        "colab": {
          "base_uri": "https://localhost:8080/"
        },
        "id": "roJUIFWAG841",
        "outputId": "91ce7165-7981-469b-a452-dbcde49e8494"
      },
      "execution_count": 79,
      "outputs": [
        {
          "output_type": "stream",
          "name": "stdout",
          "text": [
            "[20, 47, 47, 1, 58, 46, 43, 56, 43]\n",
            "Hii there\n"
          ]
        }
      ]
    },
    {
      "cell_type": "code",
      "source": [
        "#encoding the whole dataset and storing it on a torch.tensor\n",
        "import torch\n",
        "data = torch.tensor(encode(text),dtype=torch.long)\n",
        "print(data.shape,data.dtype)\n",
        "print(data[:1000])"
      ],
      "metadata": {
        "colab": {
          "base_uri": "https://localhost:8080/"
        },
        "id": "YNB32mu_zW9b",
        "outputId": "4c83f354-bc54-47b3-fdb6-df5b64a072aa"
      },
      "execution_count": 80,
      "outputs": [
        {
          "output_type": "stream",
          "name": "stdout",
          "text": [
            "torch.Size([1115394]) torch.int64\n",
            "tensor([18, 47, 56, 57, 58,  1, 15, 47, 58, 47, 64, 43, 52, 10,  0, 14, 43, 44,\n",
            "        53, 56, 43,  1, 61, 43,  1, 54, 56, 53, 41, 43, 43, 42,  1, 39, 52, 63,\n",
            "         1, 44, 59, 56, 58, 46, 43, 56,  6,  1, 46, 43, 39, 56,  1, 51, 43,  1,\n",
            "        57, 54, 43, 39, 49,  8,  0,  0, 13, 50, 50, 10,  0, 31, 54, 43, 39, 49,\n",
            "         6,  1, 57, 54, 43, 39, 49,  8,  0,  0, 18, 47, 56, 57, 58,  1, 15, 47,\n",
            "        58, 47, 64, 43, 52, 10,  0, 37, 53, 59,  1, 39, 56, 43,  1, 39, 50, 50,\n",
            "         1, 56, 43, 57, 53, 50, 60, 43, 42,  1, 56, 39, 58, 46, 43, 56,  1, 58,\n",
            "        53,  1, 42, 47, 43,  1, 58, 46, 39, 52,  1, 58, 53,  1, 44, 39, 51, 47,\n",
            "        57, 46, 12,  0,  0, 13, 50, 50, 10,  0, 30, 43, 57, 53, 50, 60, 43, 42,\n",
            "         8,  1, 56, 43, 57, 53, 50, 60, 43, 42,  8,  0,  0, 18, 47, 56, 57, 58,\n",
            "         1, 15, 47, 58, 47, 64, 43, 52, 10,  0, 18, 47, 56, 57, 58,  6,  1, 63,\n",
            "        53, 59,  1, 49, 52, 53, 61,  1, 15, 39, 47, 59, 57,  1, 25, 39, 56, 41,\n",
            "        47, 59, 57,  1, 47, 57,  1, 41, 46, 47, 43, 44,  1, 43, 52, 43, 51, 63,\n",
            "         1, 58, 53,  1, 58, 46, 43,  1, 54, 43, 53, 54, 50, 43,  8,  0,  0, 13,\n",
            "        50, 50, 10,  0, 35, 43,  1, 49, 52, 53, 61,  5, 58,  6,  1, 61, 43,  1,\n",
            "        49, 52, 53, 61,  5, 58,  8,  0,  0, 18, 47, 56, 57, 58,  1, 15, 47, 58,\n",
            "        47, 64, 43, 52, 10,  0, 24, 43, 58,  1, 59, 57,  1, 49, 47, 50, 50,  1,\n",
            "        46, 47, 51,  6,  1, 39, 52, 42,  1, 61, 43,  5, 50, 50,  1, 46, 39, 60,\n",
            "        43,  1, 41, 53, 56, 52,  1, 39, 58,  1, 53, 59, 56,  1, 53, 61, 52,  1,\n",
            "        54, 56, 47, 41, 43,  8,  0, 21, 57,  5, 58,  1, 39,  1, 60, 43, 56, 42,\n",
            "        47, 41, 58, 12,  0,  0, 13, 50, 50, 10,  0, 26, 53,  1, 51, 53, 56, 43,\n",
            "         1, 58, 39, 50, 49, 47, 52, 45,  1, 53, 52,  5, 58, 11,  1, 50, 43, 58,\n",
            "         1, 47, 58,  1, 40, 43,  1, 42, 53, 52, 43, 10,  1, 39, 61, 39, 63,  6,\n",
            "         1, 39, 61, 39, 63,  2,  0,  0, 31, 43, 41, 53, 52, 42,  1, 15, 47, 58,\n",
            "        47, 64, 43, 52, 10,  0, 27, 52, 43,  1, 61, 53, 56, 42,  6,  1, 45, 53,\n",
            "        53, 42,  1, 41, 47, 58, 47, 64, 43, 52, 57,  8,  0,  0, 18, 47, 56, 57,\n",
            "        58,  1, 15, 47, 58, 47, 64, 43, 52, 10,  0, 35, 43,  1, 39, 56, 43,  1,\n",
            "        39, 41, 41, 53, 59, 52, 58, 43, 42,  1, 54, 53, 53, 56,  1, 41, 47, 58,\n",
            "        47, 64, 43, 52, 57,  6,  1, 58, 46, 43,  1, 54, 39, 58, 56, 47, 41, 47,\n",
            "        39, 52, 57,  1, 45, 53, 53, 42,  8,  0, 35, 46, 39, 58,  1, 39, 59, 58,\n",
            "        46, 53, 56, 47, 58, 63,  1, 57, 59, 56, 44, 43, 47, 58, 57,  1, 53, 52,\n",
            "         1, 61, 53, 59, 50, 42,  1, 56, 43, 50, 47, 43, 60, 43,  1, 59, 57, 10,\n",
            "         1, 47, 44,  1, 58, 46, 43, 63,  0, 61, 53, 59, 50, 42,  1, 63, 47, 43,\n",
            "        50, 42,  1, 59, 57,  1, 40, 59, 58,  1, 58, 46, 43,  1, 57, 59, 54, 43,\n",
            "        56, 44, 50, 59, 47, 58, 63,  6,  1, 61, 46, 47, 50, 43,  1, 47, 58,  1,\n",
            "        61, 43, 56, 43,  0, 61, 46, 53, 50, 43, 57, 53, 51, 43,  6,  1, 61, 43,\n",
            "         1, 51, 47, 45, 46, 58,  1, 45, 59, 43, 57, 57,  1, 58, 46, 43, 63,  1,\n",
            "        56, 43, 50, 47, 43, 60, 43, 42,  1, 59, 57,  1, 46, 59, 51, 39, 52, 43,\n",
            "        50, 63, 11,  0, 40, 59, 58,  1, 58, 46, 43, 63,  1, 58, 46, 47, 52, 49,\n",
            "         1, 61, 43,  1, 39, 56, 43,  1, 58, 53, 53,  1, 42, 43, 39, 56, 10,  1,\n",
            "        58, 46, 43,  1, 50, 43, 39, 52, 52, 43, 57, 57,  1, 58, 46, 39, 58,  0,\n",
            "        39, 44, 44, 50, 47, 41, 58, 57,  1, 59, 57,  6,  1, 58, 46, 43,  1, 53,\n",
            "        40, 48, 43, 41, 58,  1, 53, 44,  1, 53, 59, 56,  1, 51, 47, 57, 43, 56,\n",
            "        63,  6,  1, 47, 57,  1, 39, 57,  1, 39, 52,  0, 47, 52, 60, 43, 52, 58,\n",
            "        53, 56, 63,  1, 58, 53,  1, 54, 39, 56, 58, 47, 41, 59, 50, 39, 56, 47,\n",
            "        57, 43,  1, 58, 46, 43, 47, 56,  1, 39, 40, 59, 52, 42, 39, 52, 41, 43,\n",
            "        11,  1, 53, 59, 56,  0, 57, 59, 44, 44, 43, 56, 39, 52, 41, 43,  1, 47,\n",
            "        57,  1, 39,  1, 45, 39, 47, 52,  1, 58, 53,  1, 58, 46, 43, 51,  1, 24,\n",
            "        43, 58,  1, 59, 57,  1, 56, 43, 60, 43, 52, 45, 43,  1, 58, 46, 47, 57,\n",
            "         1, 61, 47, 58, 46,  0, 53, 59, 56,  1, 54, 47, 49, 43, 57,  6,  1, 43,\n",
            "        56, 43,  1, 61, 43,  1, 40, 43, 41, 53, 51, 43,  1, 56, 39, 49, 43, 57,\n",
            "        10,  1, 44, 53, 56,  1, 58, 46, 43,  1, 45, 53, 42, 57,  1, 49, 52, 53,\n",
            "        61,  1, 21,  0, 57, 54, 43, 39, 49,  1, 58, 46, 47, 57,  1, 47, 52,  1,\n",
            "        46, 59, 52, 45, 43, 56,  1, 44, 53, 56,  1, 40, 56, 43, 39, 42,  6,  1,\n",
            "        52, 53, 58,  1, 47, 52,  1, 58, 46, 47, 56, 57, 58,  1, 44, 53, 56,  1,\n",
            "        56, 43, 60, 43, 52, 45, 43,  8,  0,  0])\n"
          ]
        }
      ]
    },
    {
      "cell_type": "code",
      "source": [
        "#Spliting the data into train and validation data\n",
        "n = int(0.9*len(data)) #90% of the data will be used for training\n",
        "train_data = data[:n] #10% of the data will be used for validation\n",
        "valid_data = data[n:]"
      ],
      "metadata": {
        "id": "d93i5Izg04bc"
      },
      "execution_count": 81,
      "outputs": []
    },
    {
      "cell_type": "code",
      "source": [
        "block_size = 8\n",
        "train_data[:block_size+1]"
      ],
      "metadata": {
        "colab": {
          "base_uri": "https://localhost:8080/"
        },
        "id": "mEu4a-0_441y",
        "outputId": "f2ef0db2-4ab8-464c-a81f-c9722cd5dee6"
      },
      "execution_count": 82,
      "outputs": [
        {
          "output_type": "execute_result",
          "data": {
            "text/plain": [
              "tensor([18, 47, 56, 57, 58,  1, 15, 47, 58])"
            ]
          },
          "metadata": {},
          "execution_count": 82
        }
      ]
    },
    {
      "cell_type": "code",
      "source": [
        "x = train_data[:block_size]\n",
        "y = train_data[1:block_size+1]\n",
        "for t in range(block_size):\n",
        "  context = x[:t+1]\n",
        "  target = y[t]\n",
        "  print(f\"When the input is {context} the target is {target}\")\n"
      ],
      "metadata": {
        "colab": {
          "base_uri": "https://localhost:8080/"
        },
        "id": "Rqd-6YE35MJC",
        "outputId": "e5bbb88f-8775-4193-e2a4-4f7f3add5ee0"
      },
      "execution_count": 83,
      "outputs": [
        {
          "output_type": "stream",
          "name": "stdout",
          "text": [
            "When the input is tensor([18]) the target is 47\n",
            "When the input is tensor([18, 47]) the target is 56\n",
            "When the input is tensor([18, 47, 56]) the target is 57\n",
            "When the input is tensor([18, 47, 56, 57]) the target is 58\n",
            "When the input is tensor([18, 47, 56, 57, 58]) the target is 1\n",
            "When the input is tensor([18, 47, 56, 57, 58,  1]) the target is 15\n",
            "When the input is tensor([18, 47, 56, 57, 58,  1, 15]) the target is 47\n",
            "When the input is tensor([18, 47, 56, 57, 58,  1, 15, 47]) the target is 58\n"
          ]
        }
      ]
    },
    {
      "cell_type": "code",
      "source": [
        "torch.manual_seed(1337)\n",
        "batch_size = 4 # how indipendent sequences will process in parallel\n",
        "bloack_size = 8 #what is the maximum length of predictions\n",
        "\n",
        "def get_batch(split):\n",
        "  #develop a batch of data\n",
        "  data = train_data if split== 'train' else valid_data\n",
        "  ix = torch.randint(len(data)-block_size,(batch_size,))\n",
        "  x = torch.stack([data[i:i+block_size] for i in ix])\n",
        "  y= torch.stack([data[i+1:i+block_size+1] for i in ix])\n",
        "  return x,y\n",
        "  \n",
        "xb,yb= get_batch('train')\n",
        "print('inputs:')\n",
        "print(xb.shape)\n",
        "print(xb)\n",
        "print('targets:')\n",
        "print(yb.shape)\n",
        "print(yb)\n",
        "\n",
        "print(\"=====================================================================================\")\n",
        "\n",
        "for b in range(batch_size): #batch dimension\n",
        "  for t in range(block_size): #time dimension\n",
        "    context = xb[b,:t+1]\n",
        "    target = yb[b,t]\n",
        "    print(f\"when the input is {context.tolist()} the target {target}\")"
      ],
      "metadata": {
        "colab": {
          "base_uri": "https://localhost:8080/"
        },
        "id": "pnW3Bbbt7lgZ",
        "outputId": "b08769b5-d1d4-4020-fb1e-5d0dbc73e1e2"
      },
      "execution_count": 84,
      "outputs": [
        {
          "output_type": "stream",
          "name": "stdout",
          "text": [
            "inputs:\n",
            "torch.Size([4, 8])\n",
            "tensor([[24, 43, 58,  5, 57,  1, 46, 43],\n",
            "        [44, 53, 56,  1, 58, 46, 39, 58],\n",
            "        [52, 58,  1, 58, 46, 39, 58,  1],\n",
            "        [25, 17, 27, 10,  0, 21,  1, 54]])\n",
            "targets:\n",
            "torch.Size([4, 8])\n",
            "tensor([[43, 58,  5, 57,  1, 46, 43, 39],\n",
            "        [53, 56,  1, 58, 46, 39, 58,  1],\n",
            "        [58,  1, 58, 46, 39, 58,  1, 46],\n",
            "        [17, 27, 10,  0, 21,  1, 54, 39]])\n",
            "=====================================================================================\n",
            "when the input is [24] the target 43\n",
            "when the input is [24, 43] the target 58\n",
            "when the input is [24, 43, 58] the target 5\n",
            "when the input is [24, 43, 58, 5] the target 57\n",
            "when the input is [24, 43, 58, 5, 57] the target 1\n",
            "when the input is [24, 43, 58, 5, 57, 1] the target 46\n",
            "when the input is [24, 43, 58, 5, 57, 1, 46] the target 43\n",
            "when the input is [24, 43, 58, 5, 57, 1, 46, 43] the target 39\n",
            "when the input is [44] the target 53\n",
            "when the input is [44, 53] the target 56\n",
            "when the input is [44, 53, 56] the target 1\n",
            "when the input is [44, 53, 56, 1] the target 58\n",
            "when the input is [44, 53, 56, 1, 58] the target 46\n",
            "when the input is [44, 53, 56, 1, 58, 46] the target 39\n",
            "when the input is [44, 53, 56, 1, 58, 46, 39] the target 58\n",
            "when the input is [44, 53, 56, 1, 58, 46, 39, 58] the target 1\n",
            "when the input is [52] the target 58\n",
            "when the input is [52, 58] the target 1\n",
            "when the input is [52, 58, 1] the target 58\n",
            "when the input is [52, 58, 1, 58] the target 46\n",
            "when the input is [52, 58, 1, 58, 46] the target 39\n",
            "when the input is [52, 58, 1, 58, 46, 39] the target 58\n",
            "when the input is [52, 58, 1, 58, 46, 39, 58] the target 1\n",
            "when the input is [52, 58, 1, 58, 46, 39, 58, 1] the target 46\n",
            "when the input is [25] the target 17\n",
            "when the input is [25, 17] the target 27\n",
            "when the input is [25, 17, 27] the target 10\n",
            "when the input is [25, 17, 27, 10] the target 0\n",
            "when the input is [25, 17, 27, 10, 0] the target 21\n",
            "when the input is [25, 17, 27, 10, 0, 21] the target 1\n",
            "when the input is [25, 17, 27, 10, 0, 21, 1] the target 54\n",
            "when the input is [25, 17, 27, 10, 0, 21, 1, 54] the target 39\n"
          ]
        }
      ]
    },
    {
      "cell_type": "code",
      "source": [
        "print(xb) # the input into the transformer"
      ],
      "metadata": {
        "id": "A3cpGdRdBPoU",
        "colab": {
          "base_uri": "https://localhost:8080/"
        },
        "outputId": "0d533bb4-378c-4847-d43d-3f4848c50b04"
      },
      "execution_count": 85,
      "outputs": [
        {
          "output_type": "stream",
          "name": "stdout",
          "text": [
            "tensor([[24, 43, 58,  5, 57,  1, 46, 43],\n",
            "        [44, 53, 56,  1, 58, 46, 39, 58],\n",
            "        [52, 58,  1, 58, 46, 39, 58,  1],\n",
            "        [25, 17, 27, 10,  0, 21,  1, 54]])\n"
          ]
        }
      ]
    },
    {
      "cell_type": "code",
      "source": [
        "from torch.nn.modules import transformer\n",
        "import torch\n",
        "import torch.nn as nn\n",
        "from torch.nn import functional as F\n",
        "torch.manual_seed(1337)\n",
        "\n",
        "class BiagramLanguageModel(nn.Module):\n",
        "  def __init__(self, vocab_size):\n",
        "    super().__init__()\n",
        "    #each token directly reads off the logistics for the next token from the lookup table\n",
        "    self.token_embedding_table = nn.Embedding(vocab_size,vocab_size)\n",
        "\n",
        "  def forward(self,idx,targets = None):\n",
        "    #idx and intergers are both (B,T) tensor of intergers\n",
        "    logits = self.token_embedding_table(idx) #(B,T,C) 4,8,65\n",
        "    if targets is None:\n",
        "      loss = None\n",
        "    else:\n",
        "      B, T, C = logits.shape\n",
        "      logits = logits.view(B*T, C)\n",
        "      targets = targets.view(B*T)\n",
        "      loss = F.cross_entropy(logits,targets)\n",
        "    return logits,loss\n",
        "\n",
        "  def generate(self,idx,max_new_tokens):\n",
        "    #idx is the (B,T) is the array of indices in the current context\n",
        "    for _ in range(max_new_tokens):\n",
        "      #get predictions\n",
        "      logits, loss = self(idx)\n",
        "      #focus on the last time step\n",
        "      logits = logits[:, -1, :] #becomes (B,C)\n",
        "      #apply softmax to get the probabilities\n",
        "      probs = F.softmax(logits,dim =-1)\n",
        "      #sample the distribution\n",
        "      idx_next = torch.multinomial(probs,num_samples=1) #B,C\n",
        "      #append a sampled index to the running index\n",
        "      idx = torch.cat((idx,idx_next),dim=1) # B,T+1\n",
        "    return idx\n",
        "\n",
        "m = BiagramLanguageModel(vocab_size)\n",
        "logits,loss = m(xb,yb)\n",
        "print(logits.shape)\n",
        "print(loss)\n",
        "\n",
        "print(decode(m.generate(idx=torch.zeros((1, 1),dtype= torch.long),max_new_tokens=100)[0].tolist()))"
      ],
      "metadata": {
        "colab": {
          "base_uri": "https://localhost:8080/"
        },
        "id": "yAV3sY7az5Aw",
        "outputId": "b04c819d-3d10-45a2-9bcd-80ddbddf98b1"
      },
      "execution_count": 86,
      "outputs": [
        {
          "output_type": "stream",
          "name": "stdout",
          "text": [
            "torch.Size([32, 65])\n",
            "tensor(4.8786, grad_fn=<NllLossBackward0>)\n",
            "\n",
            "SKIcLT;AcELMoTbvZv C?nq-QE33:CJqkOKH-q;:la!oiywkHjgChzbQ?u!3bLIgwevmyFJGUGp\n",
            "wnYWmnxKWWev-tDqXErVKLgJ\n"
          ]
        }
      ]
    },
    {
      "cell_type": "code",
      "source": [
        "#create a PyTorch Optimizer\n",
        "optimizer = torch.optim.AdamW(m.parameters(),lr=1e-5)"
      ],
      "metadata": {
        "id": "ZAnFT5zw39z3"
      },
      "execution_count": 96,
      "outputs": []
    },
    {
      "cell_type": "code",
      "source": [
        "batch_size = 32\n",
        "for steps in range(100000): #increase number of steps for good results\n",
        "  #sample a batch data\n",
        "    xb,yb = get_batch('train')\n",
        "\n",
        "  #evaluate the loss\n",
        "    logits, loss = m(xb,yb)\n",
        "    optimizer.zero_grad(set_to_none=True)\n",
        "    loss.backward\n",
        "    optimizer.step()\n",
        "\n",
        "print(loss.item())"
      ],
      "metadata": {
        "colab": {
          "base_uri": "https://localhost:8080/"
        },
        "id": "ViMRmgjHEICJ",
        "outputId": "989c75bb-d222-44cf-adbc-03fea95863ce"
      },
      "execution_count": 97,
      "outputs": [
        {
          "output_type": "stream",
          "name": "stdout",
          "text": [
            "4.773014545440674\n"
          ]
        }
      ]
    },
    {
      "cell_type": "code",
      "source": [
        "print(decode(m.generate(idx=torch.zeros((1, 1),dtype= torch.long),max_new_tokens=1000)[0].tolist()))"
      ],
      "metadata": {
        "colab": {
          "base_uri": "https://localhost:8080/"
        },
        "id": "hP0T7dKNJlSF",
        "outputId": "83f960eb-817e-4836-9347-6d211643225a"
      },
      "execution_count": 98,
      "outputs": [
        {
          "output_type": "stream",
          "name": "stdout",
          "text": [
            "\n",
            "BKSJ?dlIVOv;sA-MCG,SDmu3bWV:XE;n;a!uo,iMjulxJrgZ!wSCKptRj?hiAX&dZVw!oVjHxf flgVkS!puCwWcPiOEj3oXapto:C?a!ufIN3HnSFwJWW:lttXeFurJ$pKHxnOpGMlyjxKBdzr3FEGQLSPvLNL&XHx-Ku\n",
            "d,!uUzbO'.zC;VcLNukCKwvyeChS&PMpMkI.je\n",
            "w:&XeZXEJlysBk$kltGGL-lyuQQbo\n",
            "AkzLIoive?sis,SQW-LBfq,bmhswWkzoIvi\n",
            "lgOdbUYwb\n",
            "Sv'QzoHUjX FWk&flgCKHxBObatRoagZaN.lVLUgm!UinwknQ-3:h!u3SlIq-$JvJmRjxa!H&q-WgYdPlukbpxcCKmNQqx;nXUDnMOFNvfy3HOMkmngqpP CJM:CJSP CKRtkzujxq;AtRIq-gkDyhsrYD&ya!.LjRSgRlix\n",
            "lfxrjQYDCG,bQlnE$s&yu!awWPHocSBivktk!gCD.\n",
            "o!A-CUQlgGFCbOyZMk$HtUD3SZSPJUtk:ZKzkt$U fxJdT'a!&jjKKCYxqheC-oIfjRhx&y3I!!UzevmZ!BO.Ic3SPHI&o.Sxcp,iyehsrsBzLgXx\n",
            "GOlbOTbHmPIoTb?YIZvmruxJp'uMprd,lHEQ?IoCF'zDqdZ-mpmnphllgO kzlx?a!mAY:;;;ObCuqSGvreDTtRmNeDnQJZHOYTROTEQLToTrxsrQQqa;G&ZQYxtNxlDnpG ?GFXXS.SUy;zkM?w'V.kzkphsEJ.igmyZY!uBiM?Od?ENEq-bibyx;wA:wa!o?q-oi.i\n",
            "SylV.l?3nZ?RSV;!zVbTf&AciqfFV&uvbHAXybom;SPzqd,lgXYCOp,vV'nlx?cOdzfIkzSl3QwJmqS.EyYGgvU!U'kGvj$ q,SCP f?YU C&ALzboo' 'T'D.,Ow&lId,s$mJ'ajuR!uJXT'Y.x:wmZgCixzoD :WPyhruOpxOL,s!UN'yZ;\n",
            ".\n",
            "wfqwXE$s\n"
          ]
        }
      ]
    },
    {
      "cell_type": "markdown",
      "source": [
        "**Mathematical trick self attention**"
      ],
      "metadata": {
        "id": "1pPmnX6gJaMf"
      }
    },
    {
      "cell_type": "code",
      "source": [
        "#an example of atoy example\n",
        "torch.manual_seed(1337)\n",
        "B,T,C = 4,8,2 #batch, time , channels\n",
        "x = torch.randn(B,T,C)\n",
        "x.shape"
      ],
      "metadata": {
        "colab": {
          "base_uri": "https://localhost:8080/"
        },
        "id": "ff08s7kPJg39",
        "outputId": "cb9ddc40-c61f-4043-e498-f96da167f496"
      },
      "execution_count": 100,
      "outputs": [
        {
          "output_type": "execute_result",
          "data": {
            "text/plain": [
              "torch.Size([4, 8, 2])"
            ]
          },
          "metadata": {},
          "execution_count": 100
        }
      ]
    },
    {
      "cell_type": "code",
      "source": [
        "#I want x[b,t] = mean{i<t x[b,i]}\n",
        "xbow = torch.zeros((B,T,C))\n",
        "for b in range(B):\n",
        "  for t in range(T):\n",
        "    xprev = x[b,:t+1] #(T,C)\n",
        "    xbow[b,t] = torch.mean(xprev,0)"
      ],
      "metadata": {
        "id": "yPHNze9DLzqt"
      },
      "execution_count": 101,
      "outputs": []
    }
  ]
}